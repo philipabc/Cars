{
 "nbformat": 4,
 "nbformat_minor": 2,
 "metadata": {
  "language_info": {
   "name": "python",
   "codemirror_mode": {
    "name": "ipython",
    "version": 3
   }
  },
  "orig_nbformat": 2,
  "file_extension": ".py",
  "mimetype": "text/x-python",
  "name": "python",
  "npconvert_exporter": "python",
  "pygments_lexer": "ipython3",
  "version": 3
 },
 "cells": [
  {
   "cell_type": "code",
   "execution_count": null,
   "metadata": {},
   "outputs": [],
   "source": [
    "import random\n",
    "\n",
    "deck = list (range(1,1001))\n",
    "random.shuffle(deck)\n",
    " #(deck)print\n",
    " \n",
    "hand = random.sample(deck, k=100)\n",
    "# print(hand)\n",
    "\n",
    "print(sorted(hand,reverse =                                                                                                             True))\n",
    "\n",
    "print(\"This is the highest number\",max(hand))\n",
    "print(\"This is the lowest number\",min(hand))\n"
   ]
  },
  {
   "cell_type": "code",
   "execution_count": null,
   "metadata": {},
   "outputs": [],
   "source": []
  }
 ]
}